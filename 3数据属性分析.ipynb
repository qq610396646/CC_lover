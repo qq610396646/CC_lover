{
 "cells": [
  {
   "cell_type": "code",
   "execution_count": 1,
   "metadata": {},
   "outputs": [],
   "source": [
    "import numpy as np\n",
    "import pandas as pd\n",
    "from IV_index import calc_iv"
   ]
  },
  {
   "cell_type": "code",
   "execution_count": 2,
   "metadata": {},
   "outputs": [],
   "source": [
    "df=pd.read_excel(r'C:\\Users\\Administrator\\Desktop\\工作\\数据清洗.xlsx')"
   ]
  },
  {
   "cell_type": "code",
   "execution_count": 4,
   "metadata": {},
   "outputs": [
    {
     "data": {
      "text/plain": [
       "Index(['Unnamed: 0', 'level_0', 'index', '借款人姓名', '身份证号', '7天内逾期次数', '7天内逾期金',\n",
       "       '7天以上逾期次数', '7天以上逾期金额', '当前逾期最大天数', '当前逾期期数', '当前逾期金额',\n",
       "       'A3手机号在网时长查询(单位:月)', 'A4手机号当前状态查询', 'B7手机号身份证号姓名验证',\n",
       "       'B13手机号最近三月停机次数查询(单位:次)', 'B21手机号平均流量查询(单位:MB)', 'D13手机号近三个月消费均值查询',\n",
       "       'B9居住地验证new', 'C1手机号当前城市核验', '客户种类数字'],\n",
       "      dtype='object')"
      ]
     },
     "execution_count": 4,
     "metadata": {},
     "output_type": "execute_result"
    }
   ],
   "source": [
    "df.columns"
   ]
  },
  {
   "cell_type": "code",
   "execution_count": 4,
   "metadata": {},
   "outputs": [],
   "source": [
    "df=df.iloc[:,4:]"
   ]
  },
  {
   "cell_type": "code",
   "execution_count": 9,
   "metadata": {},
   "outputs": [
    {
     "data": {
      "text/html": [
       "<div>\n",
       "<style scoped>\n",
       "    .dataframe tbody tr th:only-of-type {\n",
       "        vertical-align: middle;\n",
       "    }\n",
       "\n",
       "    .dataframe tbody tr th {\n",
       "        vertical-align: top;\n",
       "    }\n",
       "\n",
       "    .dataframe thead th {\n",
       "        text-align: right;\n",
       "    }\n",
       "</style>\n",
       "<table border=\"1\" class=\"dataframe\">\n",
       "  <thead>\n",
       "    <tr style=\"text-align: right;\">\n",
       "      <th></th>\n",
       "      <th>Unnamed: 0</th>\n",
       "      <th>level_0</th>\n",
       "      <th>index</th>\n",
       "      <th>7天内逾期次数</th>\n",
       "      <th>7天内逾期金</th>\n",
       "      <th>7天以上逾期次数</th>\n",
       "      <th>7天以上逾期金额</th>\n",
       "      <th>当前逾期最大天数</th>\n",
       "      <th>当前逾期期数</th>\n",
       "      <th>当前逾期金额</th>\n",
       "      <th>A3手机号在网时长查询(单位:月)</th>\n",
       "      <th>A4手机号当前状态查询</th>\n",
       "      <th>B7手机号身份证号姓名验证</th>\n",
       "      <th>B13手机号最近三月停机次数查询(单位:次)</th>\n",
       "      <th>B21手机号平均流量查询(单位:MB)</th>\n",
       "      <th>D13手机号近三个月消费均值查询</th>\n",
       "      <th>B9居住地验证new</th>\n",
       "      <th>C1手机号当前城市核验</th>\n",
       "      <th>客户种类数字</th>\n",
       "    </tr>\n",
       "  </thead>\n",
       "  <tbody>\n",
       "    <tr>\n",
       "      <th>count</th>\n",
       "      <td>1394.000000</td>\n",
       "      <td>1394.000000</td>\n",
       "      <td>1394.000000</td>\n",
       "      <td>1394.000000</td>\n",
       "      <td>1394.000000</td>\n",
       "      <td>1394.000000</td>\n",
       "      <td>1394.000000</td>\n",
       "      <td>1394.000000</td>\n",
       "      <td>1394.000000</td>\n",
       "      <td>1394.000000</td>\n",
       "      <td>1394.000000</td>\n",
       "      <td>1394.000000</td>\n",
       "      <td>1394.00000</td>\n",
       "      <td>1394.000000</td>\n",
       "      <td>1394.000000</td>\n",
       "      <td>1394.000000</td>\n",
       "      <td>1394.000000</td>\n",
       "      <td>1394.000000</td>\n",
       "      <td>1394.000000</td>\n",
       "    </tr>\n",
       "    <tr>\n",
       "      <th>mean</th>\n",
       "      <td>696.500000</td>\n",
       "      <td>696.500000</td>\n",
       "      <td>1037.963415</td>\n",
       "      <td>1.463415</td>\n",
       "      <td>6735.220588</td>\n",
       "      <td>0.394548</td>\n",
       "      <td>2575.620165</td>\n",
       "      <td>5.941176</td>\n",
       "      <td>1.612626</td>\n",
       "      <td>8171.106593</td>\n",
       "      <td>2.928264</td>\n",
       "      <td>0.109756</td>\n",
       "      <td>0.14132</td>\n",
       "      <td>0.697991</td>\n",
       "      <td>5.978479</td>\n",
       "      <td>2.653515</td>\n",
       "      <td>3.758967</td>\n",
       "      <td>0.021521</td>\n",
       "      <td>0.714491</td>\n",
       "    </tr>\n",
       "    <tr>\n",
       "      <th>std</th>\n",
       "      <td>402.557449</td>\n",
       "      <td>402.557449</td>\n",
       "      <td>590.927003</td>\n",
       "      <td>2.252642</td>\n",
       "      <td>13598.654181</td>\n",
       "      <td>1.365927</td>\n",
       "      <td>14227.693884</td>\n",
       "      <td>18.468677</td>\n",
       "      <td>2.786340</td>\n",
       "      <td>20273.619976</td>\n",
       "      <td>0.481403</td>\n",
       "      <td>0.483917</td>\n",
       "      <td>0.35053</td>\n",
       "      <td>0.688254</td>\n",
       "      <td>3.248872</td>\n",
       "      <td>1.122647</td>\n",
       "      <td>3.994883</td>\n",
       "      <td>0.722599</td>\n",
       "      <td>0.948936</td>\n",
       "    </tr>\n",
       "    <tr>\n",
       "      <th>min</th>\n",
       "      <td>0.000000</td>\n",
       "      <td>0.000000</td>\n",
       "      <td>0.000000</td>\n",
       "      <td>0.000000</td>\n",
       "      <td>0.000000</td>\n",
       "      <td>0.000000</td>\n",
       "      <td>0.000000</td>\n",
       "      <td>0.000000</td>\n",
       "      <td>0.000000</td>\n",
       "      <td>0.000000</td>\n",
       "      <td>-1.000000</td>\n",
       "      <td>-1.000000</td>\n",
       "      <td>-1.00000</td>\n",
       "      <td>-1.000000</td>\n",
       "      <td>-1.000000</td>\n",
       "      <td>-1.000000</td>\n",
       "      <td>-1.000000</td>\n",
       "      <td>-1.000000</td>\n",
       "      <td>0.000000</td>\n",
       "    </tr>\n",
       "    <tr>\n",
       "      <th>25%</th>\n",
       "      <td>348.250000</td>\n",
       "      <td>348.250000</td>\n",
       "      <td>538.250000</td>\n",
       "      <td>0.000000</td>\n",
       "      <td>0.000000</td>\n",
       "      <td>0.000000</td>\n",
       "      <td>0.000000</td>\n",
       "      <td>0.000000</td>\n",
       "      <td>0.000000</td>\n",
       "      <td>0.000000</td>\n",
       "      <td>3.000000</td>\n",
       "      <td>0.000000</td>\n",
       "      <td>0.00000</td>\n",
       "      <td>0.000000</td>\n",
       "      <td>4.000000</td>\n",
       "      <td>2.000000</td>\n",
       "      <td>1.000000</td>\n",
       "      <td>0.000000</td>\n",
       "      <td>0.000000</td>\n",
       "    </tr>\n",
       "    <tr>\n",
       "      <th>50%</th>\n",
       "      <td>696.500000</td>\n",
       "      <td>696.500000</td>\n",
       "      <td>1073.500000</td>\n",
       "      <td>1.000000</td>\n",
       "      <td>2466.660000</td>\n",
       "      <td>0.000000</td>\n",
       "      <td>0.000000</td>\n",
       "      <td>0.000000</td>\n",
       "      <td>0.000000</td>\n",
       "      <td>0.000000</td>\n",
       "      <td>3.000000</td>\n",
       "      <td>0.000000</td>\n",
       "      <td>0.00000</td>\n",
       "      <td>1.000000</td>\n",
       "      <td>7.000000</td>\n",
       "      <td>3.000000</td>\n",
       "      <td>1.000000</td>\n",
       "      <td>0.000000</td>\n",
       "      <td>0.000000</td>\n",
       "    </tr>\n",
       "    <tr>\n",
       "      <th>75%</th>\n",
       "      <td>1044.750000</td>\n",
       "      <td>1044.750000</td>\n",
       "      <td>1512.750000</td>\n",
       "      <td>2.000000</td>\n",
       "      <td>7760.720000</td>\n",
       "      <td>0.000000</td>\n",
       "      <td>0.000000</td>\n",
       "      <td>2.000000</td>\n",
       "      <td>2.000000</td>\n",
       "      <td>7730.760000</td>\n",
       "      <td>3.000000</td>\n",
       "      <td>0.000000</td>\n",
       "      <td>0.00000</td>\n",
       "      <td>1.000000</td>\n",
       "      <td>9.000000</td>\n",
       "      <td>4.000000</td>\n",
       "      <td>10.000000</td>\n",
       "      <td>0.000000</td>\n",
       "      <td>1.000000</td>\n",
       "    </tr>\n",
       "    <tr>\n",
       "      <th>max</th>\n",
       "      <td>1393.000000</td>\n",
       "      <td>1393.000000</td>\n",
       "      <td>2258.000000</td>\n",
       "      <td>15.000000</td>\n",
       "      <td>179469.110000</td>\n",
       "      <td>11.000000</td>\n",
       "      <td>217507.770000</td>\n",
       "      <td>178.000000</td>\n",
       "      <td>17.000000</td>\n",
       "      <td>223303.230000</td>\n",
       "      <td>4.000000</td>\n",
       "      <td>3.000000</td>\n",
       "      <td>1.00000</td>\n",
       "      <td>3.000000</td>\n",
       "      <td>9.000000</td>\n",
       "      <td>4.000000</td>\n",
       "      <td>10.000000</td>\n",
       "      <td>2.000000</td>\n",
       "      <td>5.000000</td>\n",
       "    </tr>\n",
       "  </tbody>\n",
       "</table>\n",
       "</div>"
      ],
      "text/plain": [
       "        Unnamed: 0      level_0        index      7天内逾期次数         7天内逾期金  \\\n",
       "count  1394.000000  1394.000000  1394.000000  1394.000000    1394.000000   \n",
       "mean    696.500000   696.500000  1037.963415     1.463415    6735.220588   \n",
       "std     402.557449   402.557449   590.927003     2.252642   13598.654181   \n",
       "min       0.000000     0.000000     0.000000     0.000000       0.000000   \n",
       "25%     348.250000   348.250000   538.250000     0.000000       0.000000   \n",
       "50%     696.500000   696.500000  1073.500000     1.000000    2466.660000   \n",
       "75%    1044.750000  1044.750000  1512.750000     2.000000    7760.720000   \n",
       "max    1393.000000  1393.000000  2258.000000    15.000000  179469.110000   \n",
       "\n",
       "          7天以上逾期次数       7天以上逾期金额     当前逾期最大天数       当前逾期期数         当前逾期金额  \\\n",
       "count  1394.000000    1394.000000  1394.000000  1394.000000    1394.000000   \n",
       "mean      0.394548    2575.620165     5.941176     1.612626    8171.106593   \n",
       "std       1.365927   14227.693884    18.468677     2.786340   20273.619976   \n",
       "min       0.000000       0.000000     0.000000     0.000000       0.000000   \n",
       "25%       0.000000       0.000000     0.000000     0.000000       0.000000   \n",
       "50%       0.000000       0.000000     0.000000     0.000000       0.000000   \n",
       "75%       0.000000       0.000000     2.000000     2.000000    7730.760000   \n",
       "max      11.000000  217507.770000   178.000000    17.000000  223303.230000   \n",
       "\n",
       "       A3手机号在网时长查询(单位:月)  A4手机号当前状态查询  B7手机号身份证号姓名验证  B13手机号最近三月停机次数查询(单位:次)  \\\n",
       "count        1394.000000  1394.000000     1394.00000             1394.000000   \n",
       "mean            2.928264     0.109756        0.14132                0.697991   \n",
       "std             0.481403     0.483917        0.35053                0.688254   \n",
       "min            -1.000000    -1.000000       -1.00000               -1.000000   \n",
       "25%             3.000000     0.000000        0.00000                0.000000   \n",
       "50%             3.000000     0.000000        0.00000                1.000000   \n",
       "75%             3.000000     0.000000        0.00000                1.000000   \n",
       "max             4.000000     3.000000        1.00000                3.000000   \n",
       "\n",
       "       B21手机号平均流量查询(单位:MB)  D13手机号近三个月消费均值查询   B9居住地验证new  C1手机号当前城市核验  \\\n",
       "count          1394.000000       1394.000000  1394.000000  1394.000000   \n",
       "mean              5.978479          2.653515     3.758967     0.021521   \n",
       "std               3.248872          1.122647     3.994883     0.722599   \n",
       "min              -1.000000         -1.000000    -1.000000    -1.000000   \n",
       "25%               4.000000          2.000000     1.000000     0.000000   \n",
       "50%               7.000000          3.000000     1.000000     0.000000   \n",
       "75%               9.000000          4.000000    10.000000     0.000000   \n",
       "max               9.000000          4.000000    10.000000     2.000000   \n",
       "\n",
       "            客户种类数字  \n",
       "count  1394.000000  \n",
       "mean      0.714491  \n",
       "std       0.948936  \n",
       "min       0.000000  \n",
       "25%       0.000000  \n",
       "50%       0.000000  \n",
       "75%       1.000000  \n",
       "max       5.000000  "
      ]
     },
     "execution_count": 9,
     "metadata": {},
     "output_type": "execute_result"
    }
   ],
   "source": [
    "df.describe()#数据的各种描述"
   ]
  },
  {
   "cell_type": "code",
   "execution_count": 6,
   "metadata": {},
   "outputs": [],
   "source": [
    "df.describe().to_excel(r'C:\\Users\\Administrator\\Desktop\\工作\\数据描述.xlsx')"
   ]
  },
  {
   "cell_type": "code",
   "execution_count": 10,
   "metadata": {},
   "outputs": [],
   "source": [
    "corr=df.corr()['客户种类数字']#协方差"
   ]
  },
  {
   "cell_type": "code",
   "execution_count": 12,
   "metadata": {},
   "outputs": [
    {
     "data": {
      "text/plain": [
       "Unnamed: 0               -0.028805\n",
       "level_0                  -0.028805\n",
       "index                    -0.027583\n",
       "7天内逾期次数                   0.486094\n",
       "7天内逾期金                    0.412999\n",
       "7天以上逾期次数                  0.640810\n",
       "7天以上逾期金额                  0.430434\n",
       "当前逾期最大天数                  0.662045\n",
       "当前逾期期数                    0.645592\n",
       "当前逾期金额                    0.536016\n",
       "A3手机号在网时长查询(单位:月)        -0.118725\n",
       "A4手机号当前状态查询               0.087049\n",
       "B7手机号身份证号姓名验证             0.028586\n",
       "B13手机号最近三月停机次数查询(单位:次)    0.180044\n",
       "B21手机号平均流量查询(单位:MB)      -0.042976\n",
       "D13手机号近三个月消费均值查询          0.026347\n",
       "B9居住地验证new               -0.006236\n",
       "C1手机号当前城市核验               0.025718\n",
       "客户种类数字                    1.000000\n",
       "Name: 客户种类数字, dtype: float64"
      ]
     },
     "execution_count": 12,
     "metadata": {},
     "output_type": "execute_result"
    }
   ],
   "source": [
    "corr"
   ]
  },
  {
   "cell_type": "code",
   "execution_count": 13,
   "metadata": {},
   "outputs": [
    {
     "data": {
      "text/plain": [
       "Index(['Unnamed: 0', 'level_0', 'index', '7天内逾期次数', '7天内逾期金', '7天以上逾期次数',\n",
       "       '7天以上逾期金额', '当前逾期最大天数', '当前逾期期数', '当前逾期金额', 'A3手机号在网时长查询(单位:月)',\n",
       "       'A4手机号当前状态查询', 'B7手机号身份证号姓名验证', 'B13手机号最近三月停机次数查询(单位:次)',\n",
       "       'B21手机号平均流量查询(单位:MB)', 'D13手机号近三个月消费均值查询', 'B9居住地验证new', 'C1手机号当前城市核验',\n",
       "       '客户种类数字'],\n",
       "      dtype='object')"
      ]
     },
     "execution_count": 13,
     "metadata": {},
     "output_type": "execute_result"
    }
   ],
   "source": [
    "corr.index"
   ]
  },
  {
   "cell_type": "code",
   "execution_count": 14,
   "metadata": {},
   "outputs": [],
   "source": [
    "corr.to_excel(r'C:\\Users\\Administrator\\Desktop\\工作\\协方差.xlsx')"
   ]
  },
  {
   "cell_type": "code",
   "execution_count": 15,
   "metadata": {},
   "outputs": [
    {
     "data": {
      "text/plain": [
       "Index(['Unnamed: 0', 'level_0', 'index', '借款人姓名', '身份证号', '7天内逾期次数', '7天内逾期金',\n",
       "       '7天以上逾期次数', '7天以上逾期金额', '当前逾期最大天数', '当前逾期期数', '当前逾期金额',\n",
       "       'A3手机号在网时长查询(单位:月)', 'A4手机号当前状态查询', 'B7手机号身份证号姓名验证',\n",
       "       'B13手机号最近三月停机次数查询(单位:次)', 'B21手机号平均流量查询(单位:MB)', 'D13手机号近三个月消费均值查询',\n",
       "       'B9居住地验证new', 'C1手机号当前城市核验', '客户种类数字'],\n",
       "      dtype='object')"
      ]
     },
     "execution_count": 15,
     "metadata": {},
     "output_type": "execute_result"
    }
   ],
   "source": [
    "df.columns"
   ]
  },
  {
   "cell_type": "code",
   "execution_count": 16,
   "metadata": {},
   "outputs": [],
   "source": [
    "df_int=df.loc[:,['7天内逾期次数', '7天内逾期金', '7天以上逾期次数', '7天以上逾期金额', '当前逾期最大天数', '当前逾期期数',\n",
    "       '当前逾期金额', 'A3手机号在网时长查询(单位:月)', 'A4手机号当前状态查询', 'B7手机号身份证号姓名验证',\n",
    "       'B13手机号最近三月停机次数查询(单位:次)', 'B21手机号平均流量查询(单位:MB)', 'D13手机号近三个月消费均值查询',\n",
    "       'B9居住地验证new', 'C1手机号当前城市核验', '客户种类数字']]"
   ]
  },
  {
   "cell_type": "code",
   "execution_count": 17,
   "metadata": {},
   "outputs": [],
   "source": [
    "col_list=list(df_int.columns)\n"
   ]
  },
  {
   "cell_type": "code",
   "execution_count": 18,
   "metadata": {},
   "outputs": [
    {
     "data": {
      "text/plain": [
       "['7天内逾期次数',\n",
       " '7天内逾期金',\n",
       " '7天以上逾期次数',\n",
       " '7天以上逾期金额',\n",
       " '当前逾期最大天数',\n",
       " '当前逾期期数',\n",
       " '当前逾期金额',\n",
       " 'A3手机号在网时长查询(单位:月)',\n",
       " 'A4手机号当前状态查询',\n",
       " 'B7手机号身份证号姓名验证',\n",
       " 'B13手机号最近三月停机次数查询(单位:次)',\n",
       " 'B21手机号平均流量查询(单位:MB)',\n",
       " 'D13手机号近三个月消费均值查询',\n",
       " 'B9居住地验证new',\n",
       " 'C1手机号当前城市核验',\n",
       " '客户种类数字']"
      ]
     },
     "execution_count": 18,
     "metadata": {},
     "output_type": "execute_result"
    }
   ],
   "source": [
    "col_list"
   ]
  },
  {
   "cell_type": "code",
   "execution_count": 19,
   "metadata": {},
   "outputs": [
    {
     "name": "stdout",
     "output_type": "stream",
     "text": [
      "7天内逾期次数： 1.03514194903143\n"
     ]
    },
    {
     "name": "stderr",
     "output_type": "stream",
     "text": [
      "E:\\py_project\\IV_index.py:37: RuntimeWarning: divide by zero encountered in log\n",
      "  data['WoE'] = np.log(data['Distribution Good'] / data['Distribution Bad'])\n"
     ]
    },
    {
     "name": "stdout",
     "output_type": "stream",
     "text": [
      "7天内逾期金： 0.9503055023975336\n",
      "7天以上逾期次数： 0.1530094876789912\n",
      "7天以上逾期金额： 0.03347319297274748\n",
      "当前逾期最大天数： 1.366915248709356\n",
      "当前逾期期数： 1.029217821407803\n",
      "当前逾期金额： 0.8364703349800444\n",
      "A3手机号在网时长查询(单位:月)： 0.0099387150177616\n",
      "A4手机号当前状态查询： 0.00458551138302345\n",
      "B7手机号身份证号姓名验证： 0.0016846823128009835\n",
      "B13手机号最近三月停机次数查询(单位:次)： 0.0072508442758148235\n",
      "B21手机号平均流量查询(单位:MB)： 0.03138917158726891\n",
      "D13手机号近三个月消费均值查询： 0.021153192810844042\n",
      "B9居住地验证new： 0.020247065967791893\n",
      "C1手机号当前城市核验： 0.03977118019055047\n"
     ]
    }
   ],
   "source": [
    "#IV值得计算\n",
    "name=[]\n",
    "ls=[]\n",
    "column_headers = list(df_int.columns.values)\n",
    "del column_headers[-1]\n",
    "for x in column_headers:\n",
    "    IV_1, data = calc_iv(df_int, x, '客户种类数字')\n",
    "    name.append(x)\n",
    "    ls.append(IV_1)\n",
    "    print('{}： {}'.format(x, IV_1))\n",
    "iv=pd.DataFrame(index=name,data=ls)"
   ]
  },
  {
   "cell_type": "code",
   "execution_count": 20,
   "metadata": {},
   "outputs": [],
   "source": [
    "iv.to_excel(r'C:\\Users\\Administrator\\Desktop\\工作\\IV值.xlsx')"
   ]
  },
  {
   "cell_type": "code",
   "execution_count": null,
   "metadata": {},
   "outputs": [],
   "source": []
  }
 ],
 "metadata": {
  "kernelspec": {
   "display_name": "Python 3",
   "language": "python",
   "name": "python3"
  },
  "language_info": {
   "codemirror_mode": {
    "name": "ipython",
    "version": 3
   },
   "file_extension": ".py",
   "mimetype": "text/x-python",
   "name": "python",
   "nbconvert_exporter": "python",
   "pygments_lexer": "ipython3",
   "version": "3.7.3"
  }
 },
 "nbformat": 4,
 "nbformat_minor": 2
}
